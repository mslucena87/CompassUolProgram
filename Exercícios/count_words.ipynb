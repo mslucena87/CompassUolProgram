{
 "cells": [
  {
   "cell_type": "code",
   "execution_count": 3,
   "id": "64ce10c1-b56e-4cad-bb51-7305138ac546",
   "metadata": {},
   "outputs": [
    {
     "name": "stdout",
     "output_type": "stream",
     "text": [
      "+-------------------------------------------------------------+-----+\n",
      "|word                                                         |count|\n",
      "+-------------------------------------------------------------+-----+\n",
      "|séries                                                       |1    |\n",
      "|dados.                                                       |1    |\n",
      "|nova                                                         |1    |\n",
      "|GIT,                                                         |1    |\n",
      "|agregadas,                                                   |1    |\n",
      "|target=\\\"_blank\\\"                                            |2    |\n",
      "|é                                                            |6    |\n",
      "|área                                                         |1    |\n",
      "|cópia                                                        |1    |\n",
      "|semestre,                                                    |1    |\n",
      "|sendo                                                        |1    |\n",
      "|curso                                                        |6    |\n",
      "|reppositório.\\nE                                             |1    |\n",
      "|aplicativos,                                                 |1    |\n",
      "|Data                                                         |2    |\n",
      "|2.83Z\\\"></path></svg></a>Me                                  |1    |\n",
      "|x                                                            |4    |\n",
      "|lista                                                        |1    |\n",
      "|provedores                                                   |1    |\n",
      "|src=\\\"/mslucena87/CompassUolProgram/raw/main/img/banner.png\\\"|1    |\n",
      "+-------------------------------------------------------------+-----+\n",
      "only showing top 20 rows\n",
      "\n"
     ]
    }
   ],
   "source": [
    "from pyspark.sql import SparkSession\n",
    "\n",
    "spark = SparkSession.builder.appName(\"CountWords\").getOrCreate()\n",
    "\n",
    "readme_content = spark.read.text(\"README.md\")\n",
    "\n",
    "word_counts = readme_content.selectExpr(\"explode(split(value, ' ')) as word\").groupBy(\"word\").count()\n",
    "\n",
    "word_counts.show(truncate=False)"
   ]
  }
 ],
 "metadata": {
  "kernelspec": {
   "display_name": "Python 3 (ipykernel)",
   "language": "python",
   "name": "python3"
  },
  "language_info": {
   "codemirror_mode": {
    "name": "ipython",
    "version": 3
   },
   "file_extension": ".py",
   "mimetype": "text/x-python",
   "name": "python",
   "nbconvert_exporter": "python",
   "pygments_lexer": "ipython3",
   "version": "3.11.6"
  }
 },
 "nbformat": 4,
 "nbformat_minor": 5
}
